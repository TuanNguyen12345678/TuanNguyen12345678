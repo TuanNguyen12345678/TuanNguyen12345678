{
 "cells": [
  {
   "cell_type": "code",
   "execution_count": 1,
   "id": "ae5d31ba",
   "metadata": {},
   "outputs": [
    {
     "name": "stdout",
     "output_type": "stream",
     "text": [
      "họ và tên: Nguyễn Công Tuân\n"
     ]
    }
   ],
   "source": [
    "print('họ và tên: Nguyễn Công Tuân')"
   ]
  },
  {
   "cell_type": "code",
   "execution_count": 2,
   "id": "2a59e7e5",
   "metadata": {},
   "outputs": [
    {
     "name": "stdout",
     "output_type": "stream",
     "text": [
      "Ngày tháng năm sinh : 10/10/1988\n"
     ]
    }
   ],
   "source": [
    "print ('Ngày tháng năm sinh : 10/10/1988')"
   ]
  },
  {
   "cell_type": "code",
   "execution_count": null,
   "id": "5f1f6587",
   "metadata": {},
   "outputs": [],
   "source": []
  }
 ],
 "metadata": {
  "kernelspec": {
   "display_name": "Python 3 (ipykernel)",
   "language": "python",
   "name": "python3"
  },
  "language_info": {
   "codemirror_mode": {
    "name": "ipython",
    "version": 3
   },
   "file_extension": ".py",
   "mimetype": "text/x-python",
   "name": "python",
   "nbconvert_exporter": "python",
   "pygments_lexer": "ipython3",
   "version": "3.9.7"
  }
 },
 "nbformat": 4,
 "nbformat_minor": 5
}
